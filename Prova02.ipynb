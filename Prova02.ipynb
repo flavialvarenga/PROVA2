{
 "cells": [
  {
   "cell_type": "code",
   "execution_count": 246,
   "id": "b76cfb92-41db-4e70-ab8a-74e39c237f1c",
   "metadata": {},
   "outputs": [],
   "source": [
    "import math\n",
    "\n",
    "consumo_diario = [ 50, 45, 55, 60, 48, 52, 47, 49, 53, 51, 50, 46, 54, 61, 49, 53, 48, 50, 52, 47, 56, 50, 55, 60, 48, 52, 47, 49, 53, 51 ]"
   ]
  },
  {
   "cell_type": "code",
   "execution_count": 248,
   "id": "b2fe05b1-2579-45d7-8d02-114cb9298b3e",
   "metadata": {},
   "outputs": [],
   "source": [
    "def consumo():\n",
    "    soma_total = sum(consumo_diario)\n",
    "    media_consumo = soma_total / 30\n",
    "    return media_consumo"
   ]
  },
  {
   "cell_type": "code",
   "execution_count": 250,
   "id": "9bf9aa23-a4c2-4c4a-a855-9595ea9807d7",
   "metadata": {},
   "outputs": [
    {
     "name": "stdout",
     "output_type": "stream",
     "text": [
      "O consumo diário médio foi: 51.36666666666667 kWh.\n"
     ]
    }
   ],
   "source": [
    "print(f\"O consumo diário médio foi: {media_consumo} kWh.\")"
   ]
  }
 ],
 "metadata": {
  "kernelspec": {
   "display_name": "Python [conda env:base] *",
   "language": "python",
   "name": "conda-base-py"
  },
  "language_info": {
   "codemirror_mode": {
    "name": "ipython",
    "version": 3
   },
   "file_extension": ".py",
   "mimetype": "text/x-python",
   "name": "python",
   "nbconvert_exporter": "python",
   "pygments_lexer": "ipython3",
   "version": "3.12.7"
  }
 },
 "nbformat": 4,
 "nbformat_minor": 5
}
